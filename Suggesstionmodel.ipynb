{
  "cells": [
    {
      "cell_type": "markdown",
      "metadata": {
        "id": "view-in-github",
        "colab_type": "text"
      },
      "source": [
        "<a href=\"https://colab.research.google.com/github/Aayush-Keshwani/Suggestion_Model/blob/main/Suggesstionmodel.ipynb\" target=\"_parent\"><img src=\"https://colab.research.google.com/assets/colab-badge.svg\" alt=\"Open In Colab\"/></a>"
      ]
    },
    {
      "cell_type": "code",
      "execution_count": null,
      "metadata": {
        "colab": {
          "base_uri": "https://localhost:8080/"
        },
        "id": "56lrk2Ue-_cO",
        "outputId": "4d7a2e5a-fadf-49d2-c188-ac217c5fbacd"
      },
      "outputs": [
        {
          "output_type": "stream",
          "name": "stdout",
          "text": [
            "Drive already mounted at /content/drive; to attempt to forcibly remount, call drive.mount(\"/content/drive\", force_remount=True).\n"
          ]
        }
      ],
      "source": [
        "from google.colab import drive\n",
        "drive.mount(\"/content/drive\")"
      ]
    },
    {
      "cell_type": "code",
      "source": [
        "import json\n",
        "import numpy as np\n",
        "from sklearn.metrics.pairwise import cosine_similarity\n",
        "from sklearn.feature_extraction.text import TfidfVectorizer\n",
        "from sklearn.preprocessing import MultiLabelBinarizer\n",
        "\n",
        "class MovieRecommender:\n",
        "    def __init__(self, data_path):\n",
        "        with open(data_path, 'r') as f:\n",
        "            data = json.load(f)\n",
        "\n",
        "        self.movies = data['movies']\n",
        "        self.genres = data['genres']\n",
        "\n",
        "        # Prepare genre features\n",
        "        self.mlb = MultiLabelBinarizer()\n",
        "        genre_features = self.mlb.fit_transform([movie['genres'] for movie in self.movies])\n",
        "\n",
        "        # Calculate similarity matrix\n",
        "        self.similarity_matrix = cosine_similarity(genre_features)\n",
        "\n",
        "        # Create movie title to index mapping\n",
        "        self.title_to_index = {movie['title'].lower(): idx for idx, movie in enumerate(self.movies)}\n",
        "\n",
        "    def recommend_by_movie(self, movie_title, top_n=5):\n",
        "        \"\"\"Recommend movies similar to the given movie title\"\"\"\n",
        "        try:\n",
        "            idx = self.title_to_index[movie_title.lower()]\n",
        "        except KeyError:\n",
        "            return {\"error\": f\"Movie '{movie_title}' not found in database.\"}\n",
        "\n",
        "        # Get similarity scores for this movie\n",
        "        sim_scores = list(enumerate(self.similarity_matrix[idx]))\n",
        "\n",
        "        # Sort by similarity score\n",
        "        sim_scores = sorted(sim_scores, key=lambda x: x[1], reverse=True)\n",
        "\n",
        "        # Get top N most similar movies (skip the first which is the movie itself)\n",
        "        sim_scores = sim_scores[1:top_n+1]\n",
        "\n",
        "        # Get movie indices and similarity scores\n",
        "        movie_indices = [i[0] for i in sim_scores]\n",
        "\n",
        "        # Prepare output dictionary\n",
        "        output = {\n",
        "            \"input_movie\": movie_title,\n",
        "            \"recommendations\": [\n",
        "                {\n",
        "                    \"title\": self.movies[i]['title'],\n",
        "                    \"year\": self.movies[i]['year'],\n",
        "                    \"genres\": self.movies[i]['genres'],\n",
        "                    \"similarity_score\": float(sim_scores[j][1])  # Convert numpy float to Python float\n",
        "                }\n",
        "                for j, i in enumerate(movie_indices)\n",
        "            ]\n",
        "        }\n",
        "\n",
        "        return output\n",
        "\n",
        "    def recommend_by_genres(self, genres, top_n=5):\n",
        "        \"\"\"Recommend movies based on a list of genres\"\"\"\n",
        "        # Convert input genres to binary vector\n",
        "        input_genres = [g.lower() for g in genres]\n",
        "        genre_vector = self.mlb.transform([input_genres])\n",
        "\n",
        "        # Calculate similarity with all movies\n",
        "        all_movies_features = self.mlb.transform([movie['genres'] for movie in self.movies])\n",
        "        similarity_scores = cosine_similarity(genre_vector, all_movies_features)\n",
        "\n",
        "        # Get top N most similar movies\n",
        "        top_indices = np.argsort(similarity_scores[0])[::-1][:top_n]\n",
        "\n",
        "        # Prepare output dictionary\n",
        "        output = {\n",
        "            \"input_genres\": genres,\n",
        "            \"recommendations\": [\n",
        "                {\n",
        "                    \"title\": self.movies[i]['title'],\n",
        "                    \"year\": self.movies[i]['year'],\n",
        "                    \"genres\": self.movies[i]['genres'],\n",
        "                    \"similarity_score\": float(similarity_scores[0][i])  # Convert numpy float to Python float\n",
        "                }\n",
        "                for i in top_indices\n",
        "            ]\n",
        "        }\n",
        "\n",
        "        return output\n",
        "\n",
        "    def get_random_movies(self, n=5):\n",
        "        \"\"\"Get random movies from the database\"\"\"\n",
        "        indices = np.random.choice(len(self.movies), size=n, replace=False)\n",
        "\n",
        "        # Prepare output dictionary\n",
        "        output = {\n",
        "            \"random_movies\": [\n",
        "                {\n",
        "                    \"title\": self.movies[i]['title'],\n",
        "                    \"year\": self.movies[i]['year'],\n",
        "                    \"genres\": self.movies[i]['genres']\n",
        "                }\n",
        "                for i in indices\n",
        "            ]\n",
        "        }\n",
        "\n",
        "        return output\n",
        "\n",
        "def write_to_json(data, filename):\n",
        "    \"\"\"Write data to a JSON file\"\"\"\n",
        "    with open(filename, 'w') as f:\n",
        "        json.dump(data, f, indent=4)\n",
        "\n",
        "# Example usage\n",
        "if __name__ == \"__main__\":\n",
        "    # Initialize the recommender with the JSON data\n",
        "    recommender = MovieRecommender('/content/drive/MyDrive/db.json')\n",
        "\n",
        "    # Generate recommendations\n",
        "    inception_recs = recommender.recommend_by_movie(\"Inception\")\n",
        "    genre_recs = recommender.recommend_by_genres(['Action', 'Adventure', 'Sci-Fi'])\n",
        "    random_movies = recommender.get_random_movies()\n",
        "\n",
        "    # Combine all results into one dictionary\n",
        "    all_recommendations = {\n",
        "        \"movie_based_recommendations\": inception_recs,\n",
        "        \"genre_based_recommendations\": genre_recs,\n",
        "        \"random_movies\": random_movies\n",
        "    }\n",
        "\n",
        "    # Write to JSON file\n",
        "    write_to_json(all_recommendations, 'movie_recommendations.json')\n",
        "\n",
        "    print(\"Recommendations have been written to 'movie_recommendations.json'\")"
      ],
      "metadata": {
        "colab": {
          "base_uri": "https://localhost:8080/"
        },
        "id": "IK2qfBThYfq2",
        "outputId": "9835e83a-c4f4-4a4b-9d9e-b57714ba5554"
      },
      "execution_count": null,
      "outputs": [
        {
          "output_type": "stream",
          "name": "stdout",
          "text": [
            "Recommendations have been written to 'movie_recommendations.json'\n"
          ]
        },
        {
          "output_type": "stream",
          "name": "stderr",
          "text": [
            "/usr/local/lib/python3.11/dist-packages/sklearn/preprocessing/_label.py:909: UserWarning: unknown class(es) ['action', 'adventure', 'sci-fi'] will be ignored\n",
            "  warnings.warn(\n"
          ]
        }
      ]
    }
  ],
  "metadata": {
    "colab": {
      "provenance": [],
      "mount_file_id": "1Yl_jz5VRDtaTKwbW-gdpjUqMdnCyz5Rs",
      "authorship_tag": "ABX9TyPKlBFo7cjU8dSYtH5WQeB8",
      "include_colab_link": true
    },
    "kernelspec": {
      "display_name": "Python 3",
      "name": "python3"
    },
    "language_info": {
      "name": "python"
    }
  },
  "nbformat": 4,
  "nbformat_minor": 0
}